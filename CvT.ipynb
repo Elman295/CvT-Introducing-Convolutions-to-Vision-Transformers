{
  "cells": [
    {
      "cell_type": "markdown",
      "metadata": {
        "id": "view-in-github",
        "colab_type": "text"
      },
      "source": [
        "<a href=\"https://colab.research.google.com/github/Elman295/CvT-Introducing-Convolutions-to-Vision-Transformers/blob/main/CvT.ipynb\" target=\"_parent\"><img src=\"https://colab.research.google.com/assets/colab-badge.svg\" alt=\"Open In Colab\"/></a>"
      ]
    },
    {
      "cell_type": "code",
      "execution_count": 1,
      "metadata": {
        "id": "2sd7MfdcQY_0"
      },
      "outputs": [],
      "source": [
        "import numpy as np\n",
        "import matplotlib.pyplot as plt\n",
        "\n",
        "import torch\n",
        "import torchvision\n",
        "from torchvision import datasets, transforms\n",
        "from torch.utils.data import DataLoader\n",
        "from torch import nn"
      ]
    },
    {
      "cell_type": "markdown",
      "metadata": {
        "id": "fMb_lUezYKEa"
      },
      "source": [
        "#`Data`"
      ]
    },
    {
      "cell_type": "code",
      "execution_count": 2,
      "metadata": {
        "colab": {
          "base_uri": "https://localhost:8080/"
        },
        "id": "7VgAt3sVYJWq",
        "outputId": "7b27c253-90c4-4875-ea58-d5d5bcbadd4e"
      },
      "outputs": [
        {
          "output_type": "stream",
          "name": "stdout",
          "text": [
            "Downloading http://yann.lecun.com/exdb/mnist/train-images-idx3-ubyte.gz\n",
            "Failed to download (trying next):\n",
            "HTTP Error 403: Forbidden\n",
            "\n",
            "Downloading https://ossci-datasets.s3.amazonaws.com/mnist/train-images-idx3-ubyte.gz\n",
            "Downloading https://ossci-datasets.s3.amazonaws.com/mnist/train-images-idx3-ubyte.gz to data/MNIST/raw/train-images-idx3-ubyte.gz\n"
          ]
        },
        {
          "output_type": "stream",
          "name": "stderr",
          "text": [
            "100%|██████████| 9912422/9912422 [00:00<00:00, 11837613.57it/s]\n"
          ]
        },
        {
          "output_type": "stream",
          "name": "stdout",
          "text": [
            "Extracting data/MNIST/raw/train-images-idx3-ubyte.gz to data/MNIST/raw\n",
            "\n",
            "Downloading http://yann.lecun.com/exdb/mnist/train-labels-idx1-ubyte.gz\n",
            "Failed to download (trying next):\n",
            "HTTP Error 403: Forbidden\n",
            "\n",
            "Downloading https://ossci-datasets.s3.amazonaws.com/mnist/train-labels-idx1-ubyte.gz\n",
            "Downloading https://ossci-datasets.s3.amazonaws.com/mnist/train-labels-idx1-ubyte.gz to data/MNIST/raw/train-labels-idx1-ubyte.gz\n"
          ]
        },
        {
          "output_type": "stream",
          "name": "stderr",
          "text": [
            "100%|██████████| 28881/28881 [00:00<00:00, 349372.11it/s]\n"
          ]
        },
        {
          "output_type": "stream",
          "name": "stdout",
          "text": [
            "Extracting data/MNIST/raw/train-labels-idx1-ubyte.gz to data/MNIST/raw\n",
            "\n",
            "Downloading http://yann.lecun.com/exdb/mnist/t10k-images-idx3-ubyte.gz\n",
            "Failed to download (trying next):\n",
            "HTTP Error 403: Forbidden\n",
            "\n",
            "Downloading https://ossci-datasets.s3.amazonaws.com/mnist/t10k-images-idx3-ubyte.gz\n",
            "Downloading https://ossci-datasets.s3.amazonaws.com/mnist/t10k-images-idx3-ubyte.gz to data/MNIST/raw/t10k-images-idx3-ubyte.gz\n"
          ]
        },
        {
          "output_type": "stream",
          "name": "stderr",
          "text": [
            "100%|██████████| 1648877/1648877 [00:00<00:00, 3188507.27it/s]\n"
          ]
        },
        {
          "output_type": "stream",
          "name": "stdout",
          "text": [
            "Extracting data/MNIST/raw/t10k-images-idx3-ubyte.gz to data/MNIST/raw\n",
            "\n",
            "Downloading http://yann.lecun.com/exdb/mnist/t10k-labels-idx1-ubyte.gz\n",
            "Failed to download (trying next):\n",
            "HTTP Error 403: Forbidden\n",
            "\n",
            "Downloading https://ossci-datasets.s3.amazonaws.com/mnist/t10k-labels-idx1-ubyte.gz\n",
            "Downloading https://ossci-datasets.s3.amazonaws.com/mnist/t10k-labels-idx1-ubyte.gz to data/MNIST/raw/t10k-labels-idx1-ubyte.gz\n"
          ]
        },
        {
          "output_type": "stream",
          "name": "stderr",
          "text": [
            "100%|██████████| 4542/4542 [00:00<00:00, 4230630.42it/s]"
          ]
        },
        {
          "output_type": "stream",
          "name": "stdout",
          "text": [
            "Extracting data/MNIST/raw/t10k-labels-idx1-ubyte.gz to data/MNIST/raw\n",
            "\n"
          ]
        },
        {
          "output_type": "stream",
          "name": "stderr",
          "text": [
            "\n"
          ]
        }
      ],
      "source": [
        "train_ds = datasets.MNIST(\n",
        "    root = \"data\",\n",
        "    train = True,\n",
        "    download = True,\n",
        "    transform = transforms.ToTensor()\n",
        ")\n",
        "\n",
        "test_ds = datasets.MNIST(\n",
        "    root = \"data\",\n",
        "    train = False,\n",
        "    download = True,\n",
        "    transform = transforms.ToTensor()\n",
        ")"
      ]
    },
    {
      "cell_type": "code",
      "execution_count": 3,
      "metadata": {
        "id": "uhC7f51qYiQ4"
      },
      "outputs": [],
      "source": [
        "train_dl = DataLoader(dataset = train_ds, batch_size = 32, shuffle = True)\n",
        "\n",
        "test_dl = DataLoader(dataset = test_ds, batch_size = 32, shuffle = False)"
      ]
    },
    {
      "cell_type": "markdown",
      "metadata": {
        "id": "RXKtXe8_bIrM"
      },
      "source": [
        "#`Model`"
      ]
    },
    {
      "cell_type": "code",
      "execution_count": 4,
      "metadata": {
        "id": "CrXYiErTbH-m"
      },
      "outputs": [],
      "source": [
        "class Convolutional_Transformer_Block(nn.Module):\n",
        "\n",
        "  def __init__(self,c,w,h):\n",
        "    super(Convolutional_Transformer_Block, self).__init__()\n",
        "\n",
        "    self.conv_q = nn.Conv2d(c,c,1,1)\n",
        "    self.conv_k = nn.Conv2d(c,c,1,1)\n",
        "    self.conv_v = nn.Conv2d(c,c,1,1)\n",
        "    self.att = nn.MultiheadAttention(w*h,w // 2)\n",
        "    self.norm = nn.LayerNorm(w*h)\n",
        "\n",
        "    self.mlp = nn.Sequential(\n",
        "        nn.Linear(w*h,256),\n",
        "        nn.GELU(),\n",
        "        nn.Linear(256,w*h)\n",
        "    )\n",
        "\n",
        "\n",
        "  def forward(self, x):\n",
        "\n",
        "    b,c,w,h = x.shape\n",
        "\n",
        "    q = self.conv_q(x)\n",
        "    k = self.conv_k(x)\n",
        "    v = self.conv_v(x)\n",
        "\n",
        "    q = q.view(-1,w*h)\n",
        "    k = k.view(-1,w*h)\n",
        "    v = v.view(-1,w*h)\n",
        "    att,_ = self.att(q,k,v)\n",
        "    r1 = att.view(-1,c,w,h) + x\n",
        "    r1_norm = self.norm(r1.view(-1,w*h))\n",
        "    r2 = self.mlp(r1_norm).view(-1,c,w,h) + r1\n",
        "\n",
        "\n",
        "    return r2"
      ]
    },
    {
      "cell_type": "code",
      "execution_count": 5,
      "metadata": {
        "colab": {
          "base_uri": "https://localhost:8080/"
        },
        "id": "6UJ7Ebmdcfmx",
        "outputId": "7e4e2c0c-03ca-4632-ee9d-ffa698de134e"
      },
      "outputs": [
        {
          "output_type": "stream",
          "name": "stdout",
          "text": [
            "torch.Size([16, 100, 14, 14])\n"
          ]
        }
      ],
      "source": [
        "block = Convolutional_Transformer_Block(100,14,14)\n",
        "x = torch.rand(size = (16,100,14,14))\n",
        "y = block(x)\n",
        "print(y.shape)"
      ]
    },
    {
      "cell_type": "code",
      "execution_count": 6,
      "metadata": {
        "id": "4wfniZaUcnpv"
      },
      "outputs": [],
      "source": [
        "class CvT(nn.Module):\n",
        "\n",
        "  def __init__(self):\n",
        "    super(CvT, self).__init__()\n",
        "\n",
        "    self.CTE_1 = nn.Conv2d(1,16,5,1)\n",
        "    self.pool_1 = nn.MaxPool2d(2,2)\n",
        "    self.block_1 = Convolutional_Transformer_Block(16,12,12)\n",
        "\n",
        "\n",
        "    self.CTE_2 = nn.Conv2d(16,32,3,1)\n",
        "    # self.pool_2 = nn.MaxPool2d(2,2)\n",
        "    self.block_2 = Convolutional_Transformer_Block(32,10,10)\n",
        "\n",
        "    self.conv_cls = nn.Sequential(\n",
        "        nn.Conv2d(32,64,3,1),\n",
        "        nn.ReLU(),\n",
        "        nn.MaxPool2d(2,2)\n",
        "    )\n",
        "\n",
        "    self.mlp_head = nn.Sequential(\n",
        "        nn.Linear(64*4*4,512),\n",
        "        nn.ReLU(),\n",
        "        nn.Linear(512,10)\n",
        "    )\n",
        "\n",
        "\n",
        "  def forward(self, x):\n",
        "\n",
        "    f1 = self.block_1(self.pool_1(self.CTE_1(x)))\n",
        "    f2 = self.block_2(self.CTE_2(f1))\n",
        "    f3 = self.conv_cls(f2)\n",
        "    f3 = f3.view(-1,64*4*4)\n",
        "    f4 = self.mlp_head(f3)\n",
        "\n",
        "    return f4\n",
        "\n"
      ]
    },
    {
      "cell_type": "code",
      "execution_count": 7,
      "metadata": {
        "colab": {
          "base_uri": "https://localhost:8080/"
        },
        "id": "nVLt6u4ZiPUa",
        "outputId": "09213002-afe7-4e88-c07d-627495427e7a"
      },
      "outputs": [
        {
          "output_type": "stream",
          "name": "stdout",
          "text": [
            "torch.Size([16, 10])\n"
          ]
        }
      ],
      "source": [
        "model = CvT()\n",
        "x = torch.rand(size = (16,1,28,28))\n",
        "y = model(x)\n",
        "print(y.shape)"
      ]
    },
    {
      "cell_type": "code",
      "execution_count": 8,
      "metadata": {
        "id": "U8_ntuX0j336"
      },
      "outputs": [],
      "source": [
        "loss_fn = nn.CrossEntropyLoss()\n",
        "opt = torch.optim.Adam(params = model.parameters(), lr = 1e-3)"
      ]
    },
    {
      "cell_type": "code",
      "execution_count": 9,
      "metadata": {
        "id": "a5nvL1hxibvR"
      },
      "outputs": [],
      "source": [
        "def train(data, model, loss_fn, opt):\n",
        "\n",
        "  model.train()\n",
        "  size = len(data.dataset)\n",
        "\n",
        "  for b, (x,y) in enumerate(data):\n",
        "    y_pred = model(x)\n",
        "    loss = loss_fn(y_pred, y)\n",
        "    opt.zero_grad()\n",
        "    loss.backward()\n",
        "    opt.step()\n",
        "\n",
        "\n",
        "    if b % 100 == 0:\n",
        "      print(f\"loss:{loss.item()} [{b*len(x)} | {size}]\")\n",
        "\n",
        "\n"
      ]
    },
    {
      "cell_type": "code",
      "execution_count": 10,
      "metadata": {
        "id": "0MrKc4g4kQw7"
      },
      "outputs": [],
      "source": [
        "def test(data, model, loss_fn):\n",
        "\n",
        "  model.eval()\n",
        "  size = len(data.dataset)\n",
        "  num_batch = len(data)\n",
        "  test_loss, test_acc = 0,0\n",
        "\n",
        "  with torch.no_grad():\n",
        "    for x,y in data:\n",
        "      y_pred = model(x)\n",
        "      test_loss += loss_fn(y_pred, y).item()\n",
        "      test_acc += (y_pred.argmax(1) == y).type(torch.float).sum().item()\n",
        "\n",
        "\n",
        "    test_loss /= num_batch\n",
        "    test_acc /= size\n",
        "\n",
        "    print(f\"test loss :{test_loss} accuracy:{test_acc * 100}\")\n"
      ]
    },
    {
      "cell_type": "code",
      "execution_count": 11,
      "metadata": {
        "colab": {
          "base_uri": "https://localhost:8080/"
        },
        "id": "IrhfKX1PkzeB",
        "outputId": "da1d39ae-3784-407a-b3fd-842e04119d8c"
      },
      "outputs": [
        {
          "output_type": "stream",
          "name": "stdout",
          "text": [
            "epoch:1=-=-=-=-=\n",
            "loss:2.3080899715423584 [0 | 60000]\n",
            "loss:0.14006751775741577 [3200 | 60000]\n",
            "loss:0.016916001215577126 [6400 | 60000]\n",
            "loss:0.1797446459531784 [9600 | 60000]\n",
            "loss:0.1605663150548935 [12800 | 60000]\n",
            "loss:0.2651771605014801 [16000 | 60000]\n",
            "loss:0.038033030927181244 [19200 | 60000]\n",
            "loss:0.057509973645210266 [22400 | 60000]\n",
            "loss:0.12970760464668274 [25600 | 60000]\n",
            "loss:0.1586177945137024 [28800 | 60000]\n",
            "loss:0.19121892750263214 [32000 | 60000]\n",
            "loss:0.08086230605840683 [35200 | 60000]\n",
            "loss:0.06593361496925354 [38400 | 60000]\n",
            "loss:0.1956416815519333 [41600 | 60000]\n",
            "loss:0.09584520757198334 [44800 | 60000]\n",
            "loss:0.10751969367265701 [48000 | 60000]\n",
            "loss:0.052194900810718536 [51200 | 60000]\n",
            "loss:0.025682460516691208 [54400 | 60000]\n",
            "loss:0.1555529236793518 [57600 | 60000]\n",
            "test loss :0.07118231057897567 accuracy:97.76\n",
            "epoch:2=-=-=-=-=\n",
            "loss:0.006538978777825832 [0 | 60000]\n",
            "loss:0.005823739804327488 [3200 | 60000]\n",
            "loss:0.03055047243833542 [6400 | 60000]\n",
            "loss:0.008304054848849773 [9600 | 60000]\n",
            "loss:0.4128500819206238 [12800 | 60000]\n",
            "loss:0.009768715128302574 [16000 | 60000]\n",
            "loss:0.2556396424770355 [19200 | 60000]\n",
            "loss:0.3582988977432251 [22400 | 60000]\n",
            "loss:0.0030134678818285465 [25600 | 60000]\n",
            "loss:0.11525295674800873 [28800 | 60000]\n",
            "loss:0.03379124030470848 [32000 | 60000]\n",
            "loss:0.06139514967799187 [35200 | 60000]\n",
            "loss:0.07580052316188812 [38400 | 60000]\n",
            "loss:0.08027017116546631 [41600 | 60000]\n",
            "loss:0.010704686865210533 [44800 | 60000]\n",
            "loss:0.17791245877742767 [48000 | 60000]\n",
            "loss:0.21072843670845032 [51200 | 60000]\n",
            "loss:0.0001577227667439729 [54400 | 60000]\n",
            "loss:0.016217831522226334 [57600 | 60000]\n",
            "test loss :0.05417191540441701 accuracy:98.29\n",
            "epoch:3=-=-=-=-=\n",
            "loss:0.0421903096139431 [0 | 60000]\n",
            "loss:0.00046001619193702936 [3200 | 60000]\n",
            "loss:0.02469283901154995 [6400 | 60000]\n",
            "loss:0.0009533442789688706 [9600 | 60000]\n",
            "loss:0.001709749805741012 [12800 | 60000]\n",
            "loss:0.015522230416536331 [16000 | 60000]\n",
            "loss:0.04919377341866493 [19200 | 60000]\n",
            "loss:0.1250128149986267 [22400 | 60000]\n",
            "loss:0.06297779828310013 [25600 | 60000]\n",
            "loss:0.0125426622107625 [28800 | 60000]\n",
            "loss:0.0011657383292913437 [32000 | 60000]\n",
            "loss:0.00578521890565753 [35200 | 60000]\n",
            "loss:0.0008547150064259768 [38400 | 60000]\n",
            "loss:0.014027117751538754 [41600 | 60000]\n",
            "loss:0.00134923099540174 [44800 | 60000]\n",
            "loss:0.06027194485068321 [48000 | 60000]\n",
            "loss:0.00019630238239187747 [51200 | 60000]\n",
            "loss:0.003996515180915594 [54400 | 60000]\n",
            "loss:0.16459867358207703 [57600 | 60000]\n",
            "test loss :0.07474814804987027 accuracy:97.89\n",
            "epoch:4=-=-=-=-=\n",
            "loss:0.08920715749263763 [0 | 60000]\n",
            "loss:0.0004307604394853115 [3200 | 60000]\n",
            "loss:0.13082493841648102 [6400 | 60000]\n",
            "loss:0.0019914652220904827 [9600 | 60000]\n",
            "loss:0.0003801958227995783 [12800 | 60000]\n",
            "loss:0.015898901969194412 [16000 | 60000]\n",
            "loss:0.1186414584517479 [19200 | 60000]\n",
            "loss:0.0028315605595707893 [22400 | 60000]\n",
            "loss:0.005505537148565054 [25600 | 60000]\n",
            "loss:0.016267064958810806 [28800 | 60000]\n",
            "loss:0.16237197816371918 [32000 | 60000]\n",
            "loss:0.10495826601982117 [35200 | 60000]\n",
            "loss:0.004613303579390049 [38400 | 60000]\n",
            "loss:0.0028073370922356844 [41600 | 60000]\n",
            "loss:0.02774140238761902 [44800 | 60000]\n",
            "loss:0.0044742366299033165 [48000 | 60000]\n",
            "loss:0.0007610706961713731 [51200 | 60000]\n",
            "loss:0.05607686936855316 [54400 | 60000]\n",
            "loss:0.15326689183712006 [57600 | 60000]\n",
            "test loss :0.050936064988958946 accuracy:98.45\n",
            "epoch:5=-=-=-=-=\n",
            "loss:0.05083279311656952 [0 | 60000]\n",
            "loss:0.054885752499103546 [3200 | 60000]\n",
            "loss:0.0009390964405611157 [6400 | 60000]\n",
            "loss:1.3849336937710177e-05 [9600 | 60000]\n",
            "loss:1.8897195332101546e-05 [12800 | 60000]\n",
            "loss:0.1116509810090065 [16000 | 60000]\n",
            "loss:0.0004505668766796589 [19200 | 60000]\n",
            "loss:0.037747569382190704 [22400 | 60000]\n",
            "loss:0.0015060415025800467 [25600 | 60000]\n",
            "loss:0.00633272947743535 [28800 | 60000]\n",
            "loss:0.00604858435690403 [32000 | 60000]\n",
            "loss:0.028478071093559265 [35200 | 60000]\n",
            "loss:0.008184263482689857 [38400 | 60000]\n",
            "loss:0.00023954159405548126 [41600 | 60000]\n",
            "loss:0.2224707007408142 [44800 | 60000]\n",
            "loss:0.003089293371886015 [48000 | 60000]\n",
            "loss:0.09961014986038208 [51200 | 60000]\n",
            "loss:0.0003461074666120112 [54400 | 60000]\n",
            "loss:0.12477477639913559 [57600 | 60000]\n",
            "test loss :0.06339836854662638 accuracy:98.00999999999999\n",
            "epoch:6=-=-=-=-=\n",
            "loss:0.0031670136377215385 [0 | 60000]\n",
            "loss:0.0016151944873854518 [3200 | 60000]\n",
            "loss:0.004242045804858208 [6400 | 60000]\n",
            "loss:0.011483102105557919 [9600 | 60000]\n",
            "loss:0.28478673100471497 [12800 | 60000]\n",
            "loss:0.0627385750412941 [16000 | 60000]\n",
            "loss:0.19294525682926178 [19200 | 60000]\n",
            "loss:0.09627525508403778 [22400 | 60000]\n",
            "loss:0.013844610191881657 [25600 | 60000]\n",
            "loss:0.00919813197106123 [28800 | 60000]\n",
            "loss:0.0002678829769138247 [32000 | 60000]\n",
            "loss:0.034821782261133194 [35200 | 60000]\n",
            "loss:0.11601290106773376 [38400 | 60000]\n",
            "loss:0.03843396157026291 [41600 | 60000]\n",
            "loss:0.06479718536138535 [44800 | 60000]\n",
            "loss:0.00014651985839009285 [48000 | 60000]\n",
            "loss:0.093656025826931 [51200 | 60000]\n",
            "loss:0.0030840293038636446 [54400 | 60000]\n",
            "loss:0.010227618739008904 [57600 | 60000]\n",
            "test loss :0.035790988962556614 accuracy:99.07000000000001\n",
            "epoch:7=-=-=-=-=\n",
            "loss:0.011584863066673279 [0 | 60000]\n",
            "loss:9.940555173670873e-05 [3200 | 60000]\n",
            "loss:3.3548065403010696e-05 [6400 | 60000]\n",
            "loss:0.012127515859901905 [9600 | 60000]\n",
            "loss:0.00670395465567708 [12800 | 60000]\n",
            "loss:0.1264144480228424 [16000 | 60000]\n",
            "loss:0.001236750278621912 [19200 | 60000]\n",
            "loss:0.005836154334247112 [22400 | 60000]\n",
            "loss:0.002665608888491988 [25600 | 60000]\n",
            "loss:0.13189320266246796 [28800 | 60000]\n",
            "loss:0.11163771152496338 [32000 | 60000]\n",
            "loss:0.000459865404991433 [35200 | 60000]\n",
            "loss:0.013697227463126183 [38400 | 60000]\n",
            "loss:0.0012991741532459855 [41600 | 60000]\n",
            "loss:0.0020600552670657635 [44800 | 60000]\n",
            "loss:0.002582765882834792 [48000 | 60000]\n",
            "loss:0.03693865239620209 [51200 | 60000]\n",
            "loss:0.12874992191791534 [54400 | 60000]\n",
            "loss:0.0732603371143341 [57600 | 60000]\n",
            "test loss :0.06437116097629042 accuracy:98.32\n",
            "epoch:8=-=-=-=-=\n",
            "loss:0.00840559508651495 [0 | 60000]\n",
            "loss:0.013481637462973595 [3200 | 60000]\n",
            "loss:0.002958068624138832 [6400 | 60000]\n",
            "loss:0.056933507323265076 [9600 | 60000]\n",
            "loss:0.0021668351255357265 [12800 | 60000]\n",
            "loss:0.035501934587955475 [16000 | 60000]\n",
            "loss:0.0012106116628274322 [19200 | 60000]\n",
            "loss:0.0033662354107946157 [22400 | 60000]\n",
            "loss:6.642015250690747e-06 [25600 | 60000]\n",
            "loss:0.5114696025848389 [28800 | 60000]\n",
            "loss:0.029737159609794617 [32000 | 60000]\n",
            "loss:0.16699758172035217 [35200 | 60000]\n",
            "loss:0.03699619695544243 [38400 | 60000]\n",
            "loss:0.17973512411117554 [41600 | 60000]\n",
            "loss:0.0014024924021214247 [44800 | 60000]\n",
            "loss:0.25607234239578247 [48000 | 60000]\n",
            "loss:0.004589933902025223 [51200 | 60000]\n",
            "loss:0.1641765534877777 [54400 | 60000]\n",
            "loss:0.0029957559891045094 [57600 | 60000]\n",
            "test loss :0.10216082010668044 accuracy:97.17\n",
            "epoch:9=-=-=-=-=\n",
            "loss:0.025285836309194565 [0 | 60000]\n",
            "loss:0.006834448780864477 [3200 | 60000]\n",
            "loss:0.3710908591747284 [6400 | 60000]\n",
            "loss:0.0030662131030112505 [9600 | 60000]\n",
            "loss:0.03370523825287819 [12800 | 60000]\n",
            "loss:0.16279566287994385 [16000 | 60000]\n",
            "loss:0.01805609092116356 [19200 | 60000]\n",
            "loss:0.16204407811164856 [22400 | 60000]\n",
            "loss:0.0016396712744608521 [25600 | 60000]\n",
            "loss:0.03142093867063522 [28800 | 60000]\n",
            "loss:0.030313394963741302 [32000 | 60000]\n",
            "loss:0.002480121096596122 [35200 | 60000]\n",
            "loss:0.0032960553653538227 [38400 | 60000]\n",
            "loss:7.09470477886498e-05 [41600 | 60000]\n",
            "loss:0.0012106244685128331 [44800 | 60000]\n",
            "loss:0.021884165704250336 [48000 | 60000]\n",
            "loss:0.018283776938915253 [51200 | 60000]\n",
            "loss:0.0018188117537647486 [54400 | 60000]\n",
            "loss:0.1419469565153122 [57600 | 60000]\n",
            "test loss :0.049600338051197165 accuracy:98.72999999999999\n",
            "epoch:10=-=-=-=-=\n",
            "loss:0.0004185063880868256 [0 | 60000]\n",
            "loss:0.0051987445913255215 [3200 | 60000]\n",
            "loss:0.015952177345752716 [6400 | 60000]\n",
            "loss:0.033381570130586624 [9600 | 60000]\n",
            "loss:0.11632929742336273 [12800 | 60000]\n",
            "loss:0.08674526959657669 [16000 | 60000]\n",
            "loss:0.0002948822802864015 [19200 | 60000]\n",
            "loss:0.002401286270469427 [22400 | 60000]\n",
            "loss:0.0005192123935557902 [25600 | 60000]\n",
            "loss:0.048905566334724426 [28800 | 60000]\n",
            "loss:0.008344819769263268 [32000 | 60000]\n",
            "loss:0.23558183014392853 [35200 | 60000]\n",
            "loss:0.0027098283171653748 [38400 | 60000]\n",
            "loss:0.052152663469314575 [41600 | 60000]\n",
            "loss:0.2122887372970581 [44800 | 60000]\n",
            "loss:0.03213445469737053 [48000 | 60000]\n",
            "loss:0.11463043093681335 [51200 | 60000]\n",
            "loss:0.0042784190736711025 [54400 | 60000]\n",
            "loss:0.051754891872406006 [57600 | 60000]\n",
            "test loss :0.09977206429818258 accuracy:97.77\n"
          ]
        }
      ],
      "source": [
        "for e in range(10):\n",
        "  print(f\"epoch:{e+1}=-=-=-=-=\")\n",
        "  train(train_dl, model, loss_fn, opt)\n",
        "  test(test_dl, model,loss_fn)"
      ]
    },
    {
      "cell_type": "code",
      "execution_count": null,
      "metadata": {
        "id": "3BkpLmw-k_3O"
      },
      "outputs": [],
      "source": []
    }
  ],
  "metadata": {
    "colab": {
      "provenance": [],
      "authorship_tag": "ABX9TyP7akz0smMPS32JQy7lr9yM",
      "include_colab_link": true
    },
    "kernelspec": {
      "display_name": "Python 3",
      "name": "python3"
    },
    "language_info": {
      "name": "python"
    }
  },
  "nbformat": 4,
  "nbformat_minor": 0
}